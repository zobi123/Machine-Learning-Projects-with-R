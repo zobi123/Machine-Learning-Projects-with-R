{
 "cells": [
  {
   "cell_type": "markdown",
   "metadata": {},
   "source": [
    "# Importing the DataSet(Data preparation and loading):"
   ]
  },
  {
   "cell_type": "code",
   "execution_count": 6,
   "metadata": {},
   "outputs": [],
   "source": [
    "LungCapData<-read.csv(file.choose(), header=T, sep=\"\\t\")"
   ]
  },
  {
   "cell_type": "code",
   "execution_count": 7,
   "metadata": {},
   "outputs": [
    {
     "data": {
      "text/html": [
       "FALSE"
      ],
      "text/latex": [
       "FALSE"
      ],
      "text/markdown": [
       "FALSE"
      ],
      "text/plain": [
       "[1] FALSE"
      ]
     },
     "metadata": {},
     "output_type": "display_data"
    }
   ],
   "source": [
    "is.null(LungCapData)"
   ]
  },
  {
   "cell_type": "markdown",
   "metadata": {},
   "source": [
    "# View of first 5 records and Attribute"
   ]
  },
  {
   "cell_type": "code",
   "execution_count": 8,
   "metadata": {},
   "outputs": [
    {
     "data": {
      "text/html": [
       "<table>\n",
       "<thead><tr><th scope=col>LungCap</th><th scope=col>Age</th><th scope=col>Height</th><th scope=col>Smoke</th><th scope=col>Gender</th><th scope=col>Caesarean</th></tr></thead>\n",
       "<tbody>\n",
       "\t<tr><td> 6.475</td><td> 6    </td><td>62.1  </td><td>no    </td><td>male  </td><td>no    </td></tr>\n",
       "\t<tr><td>10.125</td><td>18    </td><td>74.7  </td><td>yes   </td><td>female</td><td>no    </td></tr>\n",
       "\t<tr><td> 9.550</td><td>16    </td><td>69.7  </td><td>no    </td><td>female</td><td>yes   </td></tr>\n",
       "\t<tr><td>11.125</td><td>14    </td><td>71.0  </td><td>no    </td><td>male  </td><td>no    </td></tr>\n",
       "\t<tr><td> 4.800</td><td> 5    </td><td>56.9  </td><td>no    </td><td>male  </td><td>no    </td></tr>\n",
       "\t<tr><td> 6.225</td><td>11    </td><td>58.7  </td><td>no    </td><td>female</td><td>no    </td></tr>\n",
       "</tbody>\n",
       "</table>\n"
      ],
      "text/latex": [
       "\\begin{tabular}{r|llllll}\n",
       " LungCap & Age & Height & Smoke & Gender & Caesarean\\\\\n",
       "\\hline\n",
       "\t  6.475 &  6     & 62.1   & no     & male   & no    \\\\\n",
       "\t 10.125 & 18     & 74.7   & yes    & female & no    \\\\\n",
       "\t  9.550 & 16     & 69.7   & no     & female & yes   \\\\\n",
       "\t 11.125 & 14     & 71.0   & no     & male   & no    \\\\\n",
       "\t  4.800 &  5     & 56.9   & no     & male   & no    \\\\\n",
       "\t  6.225 & 11     & 58.7   & no     & female & no    \\\\\n",
       "\\end{tabular}\n"
      ],
      "text/markdown": [
       "\n",
       "| LungCap | Age | Height | Smoke | Gender | Caesarean |\n",
       "|---|---|---|---|---|---|\n",
       "|  6.475 |  6     | 62.1   | no     | male   | no     |\n",
       "| 10.125 | 18     | 74.7   | yes    | female | no     |\n",
       "|  9.550 | 16     | 69.7   | no     | female | yes    |\n",
       "| 11.125 | 14     | 71.0   | no     | male   | no     |\n",
       "|  4.800 |  5     | 56.9   | no     | male   | no     |\n",
       "|  6.225 | 11     | 58.7   | no     | female | no     |\n",
       "\n"
      ],
      "text/plain": [
       "  LungCap Age Height Smoke Gender Caesarean\n",
       "1  6.475   6  62.1   no    male   no       \n",
       "2 10.125  18  74.7   yes   female no       \n",
       "3  9.550  16  69.7   no    female yes      \n",
       "4 11.125  14  71.0   no    male   no       \n",
       "5  4.800   5  56.9   no    male   no       \n",
       "6  6.225  11  58.7   no    female no       "
      ]
     },
     "metadata": {},
     "output_type": "display_data"
    }
   ],
   "source": [
    "head(LungCapData)"
   ]
  },
  {
   "cell_type": "code",
   "execution_count": 9,
   "metadata": {},
   "outputs": [
    {
     "data": {
      "text/html": [
       "<ol class=list-inline>\n",
       "\t<li>725</li>\n",
       "\t<li>6</li>\n",
       "</ol>\n"
      ],
      "text/latex": [
       "\\begin{enumerate*}\n",
       "\\item 725\n",
       "\\item 6\n",
       "\\end{enumerate*}\n"
      ],
      "text/markdown": [
       "1. 725\n",
       "2. 6\n",
       "\n",
       "\n"
      ],
      "text/plain": [
       "[1] 725   6"
      ]
     },
     "metadata": {},
     "output_type": "display_data"
    }
   ],
   "source": [
    "dim(LungCapData)"
   ]
  },
  {
   "cell_type": "markdown",
   "metadata": {},
   "source": [
    "# Structure of Dataset"
   ]
  },
  {
   "cell_type": "code",
   "execution_count": 10,
   "metadata": {},
   "outputs": [
    {
     "name": "stdout",
     "output_type": "stream",
     "text": [
      "'data.frame':\t725 obs. of  6 variables:\n",
      " $ LungCap  : num  6.47 10.12 9.55 11.12 4.8 ...\n",
      " $ Age      : int  6 18 16 14 5 11 8 11 15 11 ...\n",
      " $ Height   : num  62.1 74.7 69.7 71 56.9 58.7 63.3 70.4 70.5 59.2 ...\n",
      " $ Smoke    : Factor w/ 2 levels \"no\",\"yes\": 1 2 1 1 1 1 1 1 1 1 ...\n",
      " $ Gender   : Factor w/ 2 levels \"female\",\"male\": 2 1 1 2 2 1 2 2 2 2 ...\n",
      " $ Caesarean: Factor w/ 2 levels \"no\",\"yes\": 1 1 2 1 1 1 2 1 1 1 ...\n"
     ]
    }
   ],
   "source": [
    "str(LungCapData)"
   ]
  },
  {
   "cell_type": "markdown",
   "metadata": {},
   "source": [
    "# Conversion of Data type of Attribute(3.B. Data distribution and anomalies)"
   ]
  },
  {
   "cell_type": "code",
   "execution_count": 11,
   "metadata": {},
   "outputs": [],
   "source": [
    "LungCapData$Smoke<-as.numeric(LungCapData$Smoke)\n",
    "LungCapData$Gender<-as.numeric(LungCapData$Gender)\n",
    "LungCapData$Caesarean<-as.numeric(LungCapData$Caesarean)\n",
    "LungCapData$Age<-as.numeric(LungCapData$Age)\n"
   ]
  },
  {
   "cell_type": "code",
   "execution_count": 12,
   "metadata": {},
   "outputs": [
    {
     "name": "stdout",
     "output_type": "stream",
     "text": [
      "'data.frame':\t725 obs. of  6 variables:\n",
      " $ LungCap  : num  6.47 10.12 9.55 11.12 4.8 ...\n",
      " $ Age      : num  6 18 16 14 5 11 8 11 15 11 ...\n",
      " $ Height   : num  62.1 74.7 69.7 71 56.9 58.7 63.3 70.4 70.5 59.2 ...\n",
      " $ Smoke    : num  1 2 1 1 1 1 1 1 1 1 ...\n",
      " $ Gender   : num  2 1 1 2 2 1 2 2 2 2 ...\n",
      " $ Caesarean: num  1 1 2 1 1 1 2 1 1 1 ...\n"
     ]
    }
   ],
   "source": [
    "str(LungCapData)"
   ]
  },
  {
   "cell_type": "code",
   "execution_count": null,
   "metadata": {},
   "outputs": [],
   "source": []
  },
  {
   "cell_type": "code",
   "execution_count": 13,
   "metadata": {},
   "outputs": [
    {
     "data": {
      "image/png": "[encoded data removed]",
      "text/plain": [
       "Plot with title \"LungCap Histogram\""
      ]
     },
     "metadata": {},
     "output_type": "display_data"
    }
   ],
   "source": [
    "hist(LungCapData$LungCap, breaks=10, main=\"LungCap Histogram\", prob=T)"
   ]
  },
  {
   "cell_type": "code",
   "execution_count": 14,
   "metadata": {},
   "outputs": [
    {
     "data": {
      "image/png": "[encoded data removed]",
      "text/plain": [
       "Plot with title \"Age Histogram\""
      ]
     },
     "metadata": {},
     "output_type": "display_data"
    }
   ],
   "source": [
    "hist(LungCapData$Age, breaks=10, main=\"Age Histogram\",prob=T)"
   ]
  },
  {
   "cell_type": "code",
   "execution_count": 15,
   "metadata": {},
   "outputs": [
    {
     "data": {
      "image/png": "[encoded data removed]",
      "text/plain": [
       "Plot with title \"Height Histogram\""
      ]
     },
     "metadata": {},
     "output_type": "display_data"
    }
   ],
   "source": [
    "hist(LungCapData$Height, breaks=10, main=\"Height Histogram\",prob=T)"
   ]
  },
  {
   "cell_type": "code",
   "execution_count": 16,
   "metadata": {},
   "outputs": [
    {
     "data": {
      "image/png": "[encoded data removed]",
      "text/plain": [
       "Plot with title \"Smoke Histogram\""
      ]
     },
     "metadata": {},
     "output_type": "display_data"
    }
   ],
   "source": [
    "hist(LungCapData$Smoke,breaks=10, main=\"Smoke Histogram\",prob=T)"
   ]
  },
  {
   "cell_type": "code",
   "execution_count": 17,
   "metadata": {},
   "outputs": [
    {
     "data": {
      "image/png": "[encoded data removed]",
      "text/plain": [
       "Plot with title \"Gender Histogram\""
      ]
     },
     "metadata": {},
     "output_type": "display_data"
    }
   ],
   "source": [
    "hist(LungCapData$Gender,breaks=10, main='Gender Histogram',prob=T)"
   ]
  },
  {
   "cell_type": "code",
   "execution_count": 18,
   "metadata": {},
   "outputs": [
    {
     "data": {
      "image/png": "[encoded data removed]",
      "text/plain": [
       "Plot with title \"Age Historgram\""
      ]
     },
     "metadata": {},
     "output_type": "display_data"
    }
   ],
   "source": [
    "hist(LungCapData$Age, breaks=10, main='Age Historgram',prob=T)"
   ]
  },
  {
   "cell_type": "code",
   "execution_count": 19,
   "metadata": {},
   "outputs": [
    {
     "data": {
      "image/png": "[encoded data removed]",
      "text/plain": [
       "Plot with title \"Caesarean Histogram\""
      ]
     },
     "metadata": {},
     "output_type": "display_data"
    }
   ],
   "source": [
    "hist(LungCapData$Caesarean,main=\"Caesarean Histogram\", prob=T)"
   ]
  },
  {
   "cell_type": "markdown",
   "metadata": {},
   "source": [
    "# 3.C. Data distribution with log transformation\n"
   ]
  },
  {
   "cell_type": "code",
   "execution_count": 20,
   "metadata": {},
   "outputs": [
    {
     "data": {
      "image/png": "[encoded data removed]",
      "text/plain": [
       "Plot with title \"LungCap\""
      ]
     },
     "metadata": {},
     "output_type": "display_data"
    }
   ],
   "source": [
    "hist(log10(LungCapData$LungCap), breaks=10, main='LungCap',prob=T)"
   ]
  },
  {
   "cell_type": "code",
   "execution_count": 21,
   "metadata": {},
   "outputs": [
    {
     "data": {
      "image/png": "[encoded data removed]",
      "text/plain": [
       "Plot with title \"Age\""
      ]
     },
     "metadata": {},
     "output_type": "display_data"
    }
   ],
   "source": [
    "hist(log10(LungCapData$Age), breaks=10, main='Age',prob=T)\n",
    "\n"
   ]
  },
  {
   "cell_type": "code",
   "execution_count": 22,
   "metadata": {},
   "outputs": [
    {
     "data": {
      "image/png": "[encoded data removed]",
      "text/plain": [
       "Plot with title \"Height\""
      ]
     },
     "metadata": {},
     "output_type": "display_data"
    }
   ],
   "source": [
    "hist(log10(LungCapData$Height), breaks=10, main='Height',prob=T)"
   ]
  },
  {
   "cell_type": "code",
   "execution_count": 23,
   "metadata": {},
   "outputs": [
    {
     "data": {
      "image/png": "[encoded data removed]",
      "text/plain": [
       "Plot with title \"Smoke\""
      ]
     },
     "metadata": {},
     "output_type": "display_data"
    }
   ],
   "source": [
    "hist(log10(LungCapData$Smoke), breaks=10, main='Smoke',prob=T)"
   ]
  },
  {
   "cell_type": "code",
   "execution_count": 24,
   "metadata": {},
   "outputs": [
    {
     "data": {
      "image/png": "[encoded data removed]",
      "text/plain": [
       "Plot with title \"Gender\""
      ]
     },
     "metadata": {},
     "output_type": "display_data"
    }
   ],
   "source": [
    "hist(log10(LungCapData$Gender), breaks=10, main='Gender',prob=T)"
   ]
  },
  {
   "cell_type": "code",
   "execution_count": 25,
   "metadata": {},
   "outputs": [
    {
     "data": {
      "image/png": "[encoded data removed]",
      "text/plain": [
       "Plot with title \"Caesarean\""
      ]
     },
     "metadata": {},
     "output_type": "display_data"
    }
   ],
   "source": [
    "hist(log10(LungCapData$Caesarean), breaks=10, main='Caesarean',prob=T)"
   ]
  },
  {
   "cell_type": "markdown",
   "metadata": {},
   "source": [
    "# 3.D. Examining multiple variables and regression\n"
   ]
  },
  {
   "cell_type": "code",
   "execution_count": 26,
   "metadata": {},
   "outputs": [
    {
     "data": {
      "text/html": [
       "<ol class=list-inline>\n",
       "\t<li>'LungCap'</li>\n",
       "\t<li>'Age'</li>\n",
       "\t<li>'Height'</li>\n",
       "\t<li>'Smoke'</li>\n",
       "\t<li>'Gender'</li>\n",
       "\t<li>'Caesarean'</li>\n",
       "</ol>\n"
      ],
      "text/latex": [
       "\\begin{enumerate*}\n",
       "\\item 'LungCap'\n",
       "\\item 'Age'\n",
       "\\item 'Height'\n",
       "\\item 'Smoke'\n",
       "\\item 'Gender'\n",
       "\\item 'Caesarean'\n",
       "\\end{enumerate*}\n"
      ],
      "text/markdown": [
       "1. 'LungCap'\n",
       "2. 'Age'\n",
       "3. 'Height'\n",
       "4. 'Smoke'\n",
       "5. 'Gender'\n",
       "6. 'Caesarean'\n",
       "\n",
       "\n"
      ],
      "text/plain": [
       "[1] \"LungCap\"   \"Age\"       \"Height\"    \"Smoke\"     \"Gender\"    \"Caesarean\""
      ]
     },
     "metadata": {},
     "output_type": "display_data"
    }
   ],
   "source": [
    "names(LungCapData)"
   ]
  },
  {
   "cell_type": "code",
   "execution_count": 27,
   "metadata": {},
   "outputs": [],
   "source": [
    "attach(LungCapData)"
   ]
  },
  {
   "cell_type": "code",
   "execution_count": 28,
   "metadata": {},
   "outputs": [
    {
     "data": {
      "text/html": [
       "'numeric'"
      ],
      "text/latex": [
       "'numeric'"
      ],
      "text/markdown": [
       "'numeric'"
      ],
      "text/plain": [
       "[1] \"numeric\""
      ]
     },
     "metadata": {},
     "output_type": "display_data"
    }
   ],
   "source": [
    "class(Age)"
   ]
  },
  {
   "cell_type": "code",
   "execution_count": 29,
   "metadata": {},
   "outputs": [
    {
     "data": {
      "text/html": [
       "'numeric'"
      ],
      "text/latex": [
       "'numeric'"
      ],
      "text/markdown": [
       "'numeric'"
      ],
      "text/plain": [
       "[1] \"numeric\""
      ]
     },
     "metadata": {},
     "output_type": "display_data"
    }
   ],
   "source": [
    "class(LungCap)"
   ]
  },
  {
   "cell_type": "code",
   "execution_count": 30,
   "metadata": {},
   "outputs": [
    {
     "data": {
      "image/png": "[encoded data removed]",
      "text/plain": [
       "Plot with title \"Scatterplot\""
      ]
     },
     "metadata": {},
     "output_type": "display_data"
    }
   ],
   "source": [
    "plot(Age, LungCap, main=\"Scatterplot\")"
   ]
  },
  {
   "cell_type": "code",
   "execution_count": 31,
   "metadata": {},
   "outputs": [
    {
     "data": {
      "text/html": [
       "0.819674897498941"
      ],
      "text/latex": [
       "0.819674897498941"
      ],
      "text/markdown": [
       "0.819674897498941"
      ],
      "text/plain": [
       "[1] 0.8196749"
      ]
     },
     "metadata": {},
     "output_type": "display_data"
    }
   ],
   "source": [
    "cor(Age, LungCap)"
   ]
  },
  {
   "cell_type": "code",
   "execution_count": 32,
   "metadata": {},
   "outputs": [],
   "source": [
    "mod<-lm(LungCap~Age)"
   ]
  },
  {
   "cell_type": "code",
   "execution_count": 33,
   "metadata": {},
   "outputs": [
    {
     "data": {
      "text/plain": [
       "\n",
       "Call:\n",
       "lm(formula = LungCap ~ Age)\n",
       "\n",
       "Residuals:\n",
       "    Min      1Q  Median      3Q     Max \n",
       "-4.7799 -1.0203 -0.0005  0.9789  4.2650 \n",
       "\n",
       "Coefficients:\n",
       "            Estimate Std. Error t value Pr(>|t|)    \n",
       "(Intercept)  1.14686    0.18353   6.249 7.06e-10 ***\n",
       "Age          0.54485    0.01416  38.476  < 2e-16 ***\n",
       "---\n",
       "Signif. codes:  0 '***' 0.001 '**' 0.01 '*' 0.05 '.' 0.1 ' ' 1\n",
       "\n",
       "Residual standard error: 1.526 on 723 degrees of freedom\n",
       "Multiple R-squared:  0.6719,\tAdjusted R-squared:  0.6714 \n",
       "F-statistic:  1480 on 1 and 723 DF,  p-value: < 2.2e-16\n"
      ]
     },
     "metadata": {},
     "output_type": "display_data"
    }
   ],
   "source": [
    "summary(mod)"
   ]
  },
  {
   "cell_type": "code",
   "execution_count": 34,
   "metadata": {},
   "outputs": [
    {
     "data": {
      "text/html": [
       "<dl>\n",
       "\t<dt>$names</dt>\n",
       "\t\t<dd><ol class=list-inline>\n",
       "\t<li>'coefficients'</li>\n",
       "\t<li>'residuals'</li>\n",
       "\t<li>'effects'</li>\n",
       "\t<li>'rank'</li>\n",
       "\t<li>'fitted.values'</li>\n",
       "\t<li>'assign'</li>\n",
       "\t<li>'qr'</li>\n",
       "\t<li>'df.residual'</li>\n",
       "\t<li>'xlevels'</li>\n",
       "\t<li>'call'</li>\n",
       "\t<li>'terms'</li>\n",
       "\t<li>'model'</li>\n",
       "</ol>\n",
       "</dd>\n",
       "\t<dt>$class</dt>\n",
       "\t\t<dd>'lm'</dd>\n",
       "</dl>\n"
      ],
      "text/latex": [
       "\\begin{description}\n",
       "\\item[\\$names] \\begin{enumerate*}\n",
       "\\item 'coefficients'\n",
       "\\item 'residuals'\n",
       "\\item 'effects'\n",
       "\\item 'rank'\n",
       "\\item 'fitted.values'\n",
       "\\item 'assign'\n",
       "\\item 'qr'\n",
       "\\item 'df.residual'\n",
       "\\item 'xlevels'\n",
       "\\item 'call'\n",
       "\\item 'terms'\n",
       "\\item 'model'\n",
       "\\end{enumerate*}\n",
       "\n",
       "\\item[\\$class] 'lm'\n",
       "\\end{description}\n"
      ],
      "text/markdown": [
       "$names\n",
       ":   1. 'coefficients'\n",
       "2. 'residuals'\n",
       "3. 'effects'\n",
       "4. 'rank'\n",
       "5. 'fitted.values'\n",
       "6. 'assign'\n",
       "7. 'qr'\n",
       "8. 'df.residual'\n",
       "9. 'xlevels'\n",
       "10. 'call'\n",
       "11. 'terms'\n",
       "12. 'model'\n",
       "\n",
       "\n",
       "\n",
       "$class\n",
       ":   'lm'\n",
       "\n",
       "\n"
      ],
      "text/plain": [
       "$names\n",
       " [1] \"coefficients\"  \"residuals\"     \"effects\"       \"rank\"         \n",
       " [5] \"fitted.values\" \"assign\"        \"qr\"            \"df.residual\"  \n",
       " [9] \"xlevels\"       \"call\"          \"terms\"         \"model\"        \n",
       "\n",
       "$class\n",
       "[1] \"lm\"\n"
      ]
     },
     "metadata": {},
     "output_type": "display_data"
    }
   ],
   "source": [
    "attributes(mod)"
   ]
  },
  {
   "cell_type": "code",
   "execution_count": 35,
   "metadata": {},
   "outputs": [
    {
     "data": {
      "text/html": [
       "<dl class=dl-horizontal>\n",
       "\t<dt>(Intercept)</dt>\n",
       "\t\t<dd>1.14685780537198</dd>\n",
       "\t<dt>Age</dt>\n",
       "\t\t<dd>0.544848393320501</dd>\n",
       "</dl>\n"
      ],
      "text/latex": [
       "\\begin{description*}\n",
       "\\item[(Intercept)] 1.14685780537198\n",
       "\\item[Age] 0.544848393320501\n",
       "\\end{description*}\n"
      ],
      "text/markdown": [
       "(Intercept)\n",
       ":   1.14685780537198Age\n",
       ":   0.544848393320501\n",
       "\n"
      ],
      "text/plain": [
       "(Intercept)         Age \n",
       "  1.1468578   0.5448484 "
      ]
     },
     "metadata": {},
     "output_type": "display_data"
    }
   ],
   "source": [
    "mod$coefficients"
   ]
  },
  {
   "cell_type": "code",
   "execution_count": 36,
   "metadata": {},
   "outputs": [
    {
     "data": {
      "text/html": [
       "<dl class=dl-horizontal>\n",
       "\t<dt>(Intercept)</dt>\n",
       "\t\t<dd>1.14685780537198</dd>\n",
       "\t<dt>Age</dt>\n",
       "\t\t<dd>0.544848393320501</dd>\n",
       "</dl>\n"
      ],
      "text/latex": [
       "\\begin{description*}\n",
       "\\item[(Intercept)] 1.14685780537198\n",
       "\\item[Age] 0.544848393320501\n",
       "\\end{description*}\n"
      ],
      "text/markdown": [
       "(Intercept)\n",
       ":   1.14685780537198Age\n",
       ":   0.544848393320501\n",
       "\n"
      ],
      "text/plain": [
       "(Intercept)         Age \n",
       "  1.1468578   0.5448484 "
      ]
     },
     "metadata": {},
     "output_type": "display_data"
    }
   ],
   "source": [
    "mod$coef"
   ]
  },
  {
   "cell_type": "code",
   "execution_count": 37,
   "metadata": {},
   "outputs": [
    {
     "data": {
      "text/html": [
       "<dl class=dl-horizontal>\n",
       "\t<dt>(Intercept)</dt>\n",
       "\t\t<dd>1.14685780537198</dd>\n",
       "\t<dt>Age</dt>\n",
       "\t\t<dd>0.544848393320501</dd>\n",
       "</dl>\n"
      ],
      "text/latex": [
       "\\begin{description*}\n",
       "\\item[(Intercept)] 1.14685780537198\n",
       "\\item[Age] 0.544848393320501\n",
       "\\end{description*}\n"
      ],
      "text/markdown": [
       "(Intercept)\n",
       ":   1.14685780537198Age\n",
       ":   0.544848393320501\n",
       "\n"
      ],
      "text/plain": [
       "(Intercept)         Age \n",
       "  1.1468578   0.5448484 "
      ]
     },
     "metadata": {},
     "output_type": "display_data"
    }
   ],
   "source": [
    "coef(mod)"
   ]
  },
  {
   "cell_type": "code",
   "execution_count": 38,
   "metadata": {},
   "outputs": [
    {
     "data": {
      "image/png": "[encoded data removed]",
      "text/plain": [
       "Plot with title \"Scatterplot\""
      ]
     },
     "metadata": {},
     "output_type": "display_data"
    }
   ],
   "source": [
    "plot(Age, LungCap, main=\"Scatterplot\")\n",
    "abline(mod)\n",
    "abline(mod, col=2, lwd=3)\n"
   ]
  },
  {
   "cell_type": "code",
   "execution_count": 39,
   "metadata": {},
   "outputs": [
    {
     "data": {
      "text/html": [
       "<table>\n",
       "<thead><tr><th></th><th scope=col>2.5 %</th><th scope=col>97.5 %</th></tr></thead>\n",
       "<tbody>\n",
       "\t<tr><th scope=row>(Intercept)</th><td>0.7865454</td><td>1.5071702</td></tr>\n",
       "\t<tr><th scope=row>Age</th><td>0.5170471</td><td>0.5726497</td></tr>\n",
       "</tbody>\n",
       "</table>\n"
      ],
      "text/latex": [
       "\\begin{tabular}{r|ll}\n",
       "  & 2.5 \\% & 97.5 \\%\\\\\n",
       "\\hline\n",
       "\t(Intercept) & 0.7865454 & 1.5071702\\\\\n",
       "\tAge & 0.5170471 & 0.5726497\\\\\n",
       "\\end{tabular}\n"
      ],
      "text/markdown": [
       "\n",
       "| <!--/--> | 2.5 % | 97.5 % |\n",
       "|---|---|---|\n",
       "| (Intercept) | 0.7865454 | 1.5071702 |\n",
       "| Age | 0.5170471 | 0.5726497 |\n",
       "\n"
      ],
      "text/plain": [
       "            2.5 %     97.5 %   \n",
       "(Intercept) 0.7865454 1.5071702\n",
       "Age         0.5170471 0.5726497"
      ]
     },
     "metadata": {},
     "output_type": "display_data"
    }
   ],
   "source": [
    "confint(mod)"
   ]
  },
  {
   "cell_type": "code",
   "execution_count": 40,
   "metadata": {},
   "outputs": [
    {
     "data": {
      "text/plain": [
       "\n",
       "Call:\n",
       "lm(formula = LungCap ~ Age)\n",
       "\n",
       "Residuals:\n",
       "    Min      1Q  Median      3Q     Max \n",
       "-4.7799 -1.0203 -0.0005  0.9789  4.2650 \n",
       "\n",
       "Coefficients:\n",
       "            Estimate Std. Error t value Pr(>|t|)    \n",
       "(Intercept)  1.14686    0.18353   6.249 7.06e-10 ***\n",
       "Age          0.54485    0.01416  38.476  < 2e-16 ***\n",
       "---\n",
       "Signif. codes:  0 '***' 0.001 '**' 0.01 '*' 0.05 '.' 0.1 ' ' 1\n",
       "\n",
       "Residual standard error: 1.526 on 723 degrees of freedom\n",
       "Multiple R-squared:  0.6719,\tAdjusted R-squared:  0.6714 \n",
       "F-statistic:  1480 on 1 and 723 DF,  p-value: < 2.2e-16\n"
      ]
     },
     "metadata": {},
     "output_type": "display_data"
    }
   ],
   "source": [
    "summary(mod)"
   ]
  },
  {
   "cell_type": "code",
   "execution_count": 41,
   "metadata": {},
   "outputs": [
    {
     "data": {
      "text/html": [
       "<table>\n",
       "<thead><tr><th></th><th scope=col>Df</th><th scope=col>Sum Sq</th><th scope=col>Mean Sq</th><th scope=col>F value</th><th scope=col>Pr(&gt;F)</th></tr></thead>\n",
       "<tbody>\n",
       "\t<tr><th scope=row>Age</th><td>  1          </td><td>3446.995     </td><td>3446.994814  </td><td>1480.374     </td><td>4.077172e-177</td></tr>\n",
       "\t<tr><th scope=row>Residuals</th><td>723          </td><td>1683.478     </td><td>   2.328461  </td><td>      NA     </td><td>           NA</td></tr>\n",
       "</tbody>\n",
       "</table>\n"
      ],
      "text/latex": [
       "\\begin{tabular}{r|lllll}\n",
       "  & Df & Sum Sq & Mean Sq & F value & Pr(>F)\\\\\n",
       "\\hline\n",
       "\tAge &   1           & 3446.995      & 3446.994814   & 1480.374      & 4.077172e-177\\\\\n",
       "\tResiduals & 723           & 1683.478      &    2.328461   &       NA      &            NA\\\\\n",
       "\\end{tabular}\n"
      ],
      "text/markdown": [
       "\n",
       "| <!--/--> | Df | Sum Sq | Mean Sq | F value | Pr(>F) |\n",
       "|---|---|---|---|---|---|\n",
       "| Age |   1           | 3446.995      | 3446.994814   | 1480.374      | 4.077172e-177 |\n",
       "| Residuals | 723           | 1683.478      |    2.328461   |       NA      |            NA |\n",
       "\n"
      ],
      "text/plain": [
       "          Df  Sum Sq   Mean Sq     F value  Pr(>F)       \n",
       "Age         1 3446.995 3446.994814 1480.374 4.077172e-177\n",
       "Residuals 723 1683.478    2.328461       NA            NA"
      ]
     },
     "metadata": {},
     "output_type": "display_data"
    }
   ],
   "source": [
    "anova(mod)"
   ]
  },
  {
   "cell_type": "markdown",
   "metadata": {},
   "source": [
    "# Model Fitted."
   ]
  }
 ],
 "metadata": {
  "kernelspec": {
   "display_name": "Python 3",
   "language": "python",
   "name": "python3"
  },
  "language_info": {
   "codemirror_mode": {
    "name": "ipython",
    "version": 3
   },
   "file_extension": ".py",
   "mimetype": "text/x-python",
   "name": "python",
   "nbconvert_exporter": "python",
   "pygments_lexer": "ipython3",
   "version": "3.7.3"
  }
 },
 "nbformat": 4,
 "nbformat_minor": 2
}
