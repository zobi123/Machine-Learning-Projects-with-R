{
 "cells": [
  {
   "cell_type": "markdown",
   "metadata": {},
   "source": [
    "# Importing Libraries"
   ]
  },
  {
   "cell_type": "code",
   "execution_count": 12,
   "metadata": {},
   "outputs": [],
   "source": [
    "library(caret)\n",
    "library(mlbench)\n",
    "library(pROC)"
   ]
  },
  {
   "cell_type": "code",
   "execution_count": 15,
   "metadata": {},
   "outputs": [],
   "source": [
    "data<-read.csv(file.choose(), header=T)"
   ]
  },
  {
   "cell_type": "code",
   "execution_count": 16,
   "metadata": {},
   "outputs": [
    {
     "data": {
      "text/html": [
       "<table>\n",
       "<thead><tr><th scope=col>admit</th><th scope=col>gre</th><th scope=col>gpa</th><th scope=col>rank</th></tr></thead>\n",
       "<tbody>\n",
       "\t<tr><td>0   </td><td>380 </td><td>3.61</td><td>3   </td></tr>\n",
       "\t<tr><td>1   </td><td>660 </td><td>3.67</td><td>3   </td></tr>\n",
       "\t<tr><td>1   </td><td>800 </td><td>4.00</td><td>1   </td></tr>\n",
       "\t<tr><td>1   </td><td>640 </td><td>3.19</td><td>4   </td></tr>\n",
       "\t<tr><td>0   </td><td>520 </td><td>2.93</td><td>4   </td></tr>\n",
       "\t<tr><td>1   </td><td>760 </td><td>3.00</td><td>2   </td></tr>\n",
       "</tbody>\n",
       "</table>\n"
      ],
      "text/latex": [
       "\\begin{tabular}{r|llll}\n",
       " admit & gre & gpa & rank\\\\\n",
       "\\hline\n",
       "\t 0    & 380  & 3.61 & 3   \\\\\n",
       "\t 1    & 660  & 3.67 & 3   \\\\\n",
       "\t 1    & 800  & 4.00 & 1   \\\\\n",
       "\t 1    & 640  & 3.19 & 4   \\\\\n",
       "\t 0    & 520  & 2.93 & 4   \\\\\n",
       "\t 1    & 760  & 3.00 & 2   \\\\\n",
       "\\end{tabular}\n"
      ],
      "text/markdown": [
       "\n",
       "| admit | gre | gpa | rank |\n",
       "|---|---|---|---|\n",
       "| 0    | 380  | 3.61 | 3    |\n",
       "| 1    | 660  | 3.67 | 3    |\n",
       "| 1    | 800  | 4.00 | 1    |\n",
       "| 1    | 640  | 3.19 | 4    |\n",
       "| 0    | 520  | 2.93 | 4    |\n",
       "| 1    | 760  | 3.00 | 2    |\n",
       "\n"
      ],
      "text/plain": [
       "  admit gre gpa  rank\n",
       "1 0     380 3.61 3   \n",
       "2 1     660 3.67 3   \n",
       "3 1     800 4.00 1   \n",
       "4 1     640 3.19 4   \n",
       "5 0     520 2.93 4   \n",
       "6 1     760 3.00 2   "
      ]
     },
     "metadata": {},
     "output_type": "display_data"
    }
   ],
   "source": [
    "head(data)"
   ]
  },
  {
   "cell_type": "code",
   "execution_count": 17,
   "metadata": {},
   "outputs": [
    {
     "name": "stdout",
     "output_type": "stream",
     "text": [
      "'data.frame':\t400 obs. of  4 variables:\n",
      " $ admit: int  0 1 1 1 0 1 1 0 1 0 ...\n",
      " $ gre  : int  380 660 800 640 520 760 560 400 540 700 ...\n",
      " $ gpa  : num  3.61 3.67 4 3.19 2.93 3 2.98 3.08 3.39 3.92 ...\n",
      " $ rank : int  3 3 1 4 4 2 1 2 3 2 ...\n"
     ]
    }
   ],
   "source": [
    "str(data)"
   ]
  },
  {
   "cell_type": "code",
   "execution_count": 18,
   "metadata": {},
   "outputs": [
    {
     "data": {
      "text/plain": [
       "     admit             gre             gpa             rank      \n",
       " Min.   :0.0000   Min.   :220.0   Min.   :2.260   Min.   :1.000  \n",
       " 1st Qu.:0.0000   1st Qu.:520.0   1st Qu.:3.130   1st Qu.:2.000  \n",
       " Median :0.0000   Median :580.0   Median :3.395   Median :2.000  \n",
       " Mean   :0.3175   Mean   :587.7   Mean   :3.390   Mean   :2.485  \n",
       " 3rd Qu.:1.0000   3rd Qu.:660.0   3rd Qu.:3.670   3rd Qu.:3.000  \n",
       " Max.   :1.0000   Max.   :800.0   Max.   :4.000   Max.   :4.000  "
      ]
     },
     "metadata": {},
     "output_type": "display_data"
    }
   ],
   "source": [
    "summary(data)"
   ]
  },
  {
   "cell_type": "code",
   "execution_count": 19,
   "metadata": {},
   "outputs": [],
   "source": [
    "data$admit[data$admit==0]<-'no'\n",
    "data$admit[data$admit==1]<-'yes'"
   ]
  },
  {
   "cell_type": "code",
   "execution_count": 20,
   "metadata": {},
   "outputs": [],
   "source": [
    "data$admit<-factor(data$admit)"
   ]
  },
  {
   "cell_type": "code",
   "execution_count": 21,
   "metadata": {},
   "outputs": [
    {
     "name": "stdout",
     "output_type": "stream",
     "text": [
      "'data.frame':\t400 obs. of  4 variables:\n",
      " $ admit: Factor w/ 2 levels \"no\",\"yes\": 1 2 2 2 1 2 2 1 2 1 ...\n",
      " $ gre  : int  380 660 800 640 520 760 560 400 540 700 ...\n",
      " $ gpa  : num  3.61 3.67 4 3.19 2.93 3 2.98 3.08 3.39 3.92 ...\n",
      " $ rank : int  3 3 1 4 4 2 1 2 3 2 ...\n"
     ]
    }
   ],
   "source": [
    "str(data)"
   ]
  },
  {
   "cell_type": "markdown",
   "metadata": {},
   "source": [
    "# Data Partition"
   ]
  },
  {
   "cell_type": "code",
   "execution_count": 22,
   "metadata": {},
   "outputs": [],
   "source": [
    "set.seed(1234)"
   ]
  },
  {
   "cell_type": "code",
   "execution_count": 23,
   "metadata": {},
   "outputs": [],
   "source": [
    "ind<-sample(2, nrow(data), replace=T, prob=c(0.7,0.3))"
   ]
  },
  {
   "cell_type": "code",
   "execution_count": 24,
   "metadata": {},
   "outputs": [],
   "source": [
    "training<-data[ind==1,]\n",
    "test<-data[ind==2,]"
   ]
  },
  {
   "cell_type": "markdown",
   "metadata": {},
   "source": [
    "# Model ---KNN"
   ]
  },
  {
   "cell_type": "code",
   "execution_count": 28,
   "metadata": {},
   "outputs": [],
   "source": [
    "trControl <- trainControl(method = \"repeatedcv\",\n",
    "                          number = 10,\n",
    "                          repeats = 3,\n",
    "                          classProbs = TRUE,\n",
    "                          summaryFunction = twoClassSummary)"
   ]
  },
  {
   "cell_type": "code",
   "execution_count": 29,
   "metadata": {},
   "outputs": [],
   "source": [
    "set.seed(222)"
   ]
  },
  {
   "cell_type": "code",
   "execution_count": 30,
   "metadata": {},
   "outputs": [],
   "source": [
    "fit <- train(admit ~ .,\n",
    "             data = training,\n",
    "             method = 'knn',\n",
    "             tuneLength = 20,\n",
    "             trControl = trControl,\n",
    "             preProc = c(\"center\", \"scale\"),\n",
    "             metric = \"ROC\",\n",
    "             tuneGrid = expand.grid(k = 1:60))\n"
   ]
  },
  {
   "cell_type": "code",
   "execution_count": 31,
   "metadata": {},
   "outputs": [
    {
     "data": {
      "text/plain": [
       "k-Nearest Neighbors \n",
       "\n",
       "284 samples\n",
       "  3 predictor\n",
       "  2 classes: 'no', 'yes' \n",
       "\n",
       "Pre-processing: centered (3), scaled (3) \n",
       "Resampling: Cross-Validated (10 fold, repeated 3 times) \n",
       "Summary of sample sizes: 256, 256, 256, 256, 255, 256, ... \n",
       "Resampling results across tuning parameters:\n",
       "\n",
       "  k   ROC        Sens       Spec      \n",
       "   1  0.5412281  0.7100000  0.36962963\n",
       "   2  0.5631871  0.7019298  0.35703704\n",
       "   3  0.5822368  0.7973684  0.34074074\n",
       "   4  0.5622904  0.7770175  0.26111111\n",
       "   5  0.5878558  0.8065789  0.28518519\n",
       "   6  0.5911501  0.8241228  0.27740741\n",
       "   7  0.5884016  0.8585965  0.28296296\n",
       "   8  0.5892982  0.8550877  0.26851852\n",
       "   9  0.5965010  0.8725439  0.29074074\n",
       "  10  0.5899123  0.8657895  0.27444444\n",
       "  11  0.5955945  0.8799123  0.28555556\n",
       "  12  0.5876170  0.8695614  0.27740741\n",
       "  13  0.5942300  0.8659649  0.24185185\n",
       "  14  0.5949854  0.8885965  0.25703704\n",
       "  15  0.5987768  0.8816667  0.22777778\n",
       "  16  0.6125097  0.8974561  0.22074074\n",
       "  17  0.6257943  0.8976316  0.23629630\n",
       "  18  0.6256481  0.9008772  0.21481481\n",
       "  19  0.6286647  0.8976316  0.22851852\n",
       "  20  0.6372612  0.9027193  0.22185185\n",
       "  21  0.6386209  0.9064035  0.21074074\n",
       "  22  0.6393519  0.9113158  0.22518519\n",
       "  23  0.6397710  0.9200000  0.21444444\n",
       "  24  0.6438743  0.9268421  0.21740741\n",
       "  25  0.6460039  0.9215789  0.19962963\n",
       "  26  0.6482359  0.9252632  0.19925926\n",
       "  27  0.6554288  0.9287719  0.20296296\n",
       "  28  0.6596881  0.9356140  0.21037037\n",
       "  29  0.6670419  0.9356140  0.19925926\n",
       "  30  0.6726901  0.9426316  0.19888889\n",
       "  31  0.6659649  0.9460526  0.17740741\n",
       "  32  0.6657797  0.9478070  0.18148148\n",
       "  33  0.6623830  0.9495614  0.18851852\n",
       "  34  0.6627973  0.9461404  0.19259259\n",
       "  35  0.6652242  0.9495614  0.18851852\n",
       "  36  0.6679678  0.9442982  0.18148148\n",
       "  37  0.6682261  0.9477193  0.18148148\n",
       "  38  0.6704825  0.9426316  0.18555556\n",
       "  39  0.6682846  0.9459649  0.18925926\n",
       "  40  0.6617788  0.9442982  0.18185185\n",
       "  41  0.6624708  0.9408772  0.17481481\n",
       "  42  0.6600097  0.9443860  0.15703704\n",
       "  43  0.6633138  0.9478070  0.16037037\n",
       "  44  0.6617008  0.9495614  0.16000000\n",
       "  45  0.6627924  0.9478070  0.14962963\n",
       "  46  0.6605897  0.9478070  0.15037037\n",
       "  47  0.6598294  0.9494737  0.14629630\n",
       "  48  0.6578558  0.9512281  0.14962963\n",
       "  49  0.6581481  0.9511404  0.14259259\n",
       "  50  0.6615692  0.9546491  0.14592593\n",
       "  51  0.6638060  0.9546491  0.13148148\n",
       "  52  0.6637037  0.9581579  0.14222222\n",
       "  53  0.6655507  0.9546491  0.12814815\n",
       "  54  0.6666715  0.9528947  0.11703704\n",
       "  55  0.6662671  0.9597368  0.11370370\n",
       "  56  0.6639133  0.9614912  0.11777778\n",
       "  57  0.6619737  0.9597368  0.10333333\n",
       "  58  0.6612037  0.9632456  0.10333333\n",
       "  59  0.6640156  0.9597368  0.09592593\n",
       "  60  0.6681189  0.9597368  0.09962963\n",
       "\n",
       "ROC was used to select the optimal model using the largest value.\n",
       "The final value used for the model was k = 30."
      ]
     },
     "metadata": {},
     "output_type": "display_data"
    },
    {
     "data": {
      "text/plain": [
       "ROC curve variable importance\n",
       "\n",
       "     Importance\n",
       "gpa      100.00\n",
       "rank      25.18\n",
       "gre        0.00"
      ]
     },
     "metadata": {},
     "output_type": "display_data"
    },
    {
     "data": {
      "text/plain": [
       "Confusion Matrix and Statistics\n",
       "\n",
       "          Reference\n",
       "Prediction no yes\n",
       "       no  79  29\n",
       "       yes  3   5\n",
       "                                         \n",
       "               Accuracy : 0.7241         \n",
       "                 95% CI : (0.6334, 0.803)\n",
       "    No Information Rate : 0.7069         \n",
       "    P-Value [Acc > NIR] : 0.3848         \n",
       "                                         \n",
       "                  Kappa : 0.1423         \n",
       "                                         \n",
       " Mcnemar's Test P-Value : 9.897e-06      \n",
       "                                         \n",
       "            Sensitivity : 0.9634         \n",
       "            Specificity : 0.1471         \n",
       "         Pos Pred Value : 0.7315         \n",
       "         Neg Pred Value : 0.6250         \n",
       "             Prevalence : 0.7069         \n",
       "         Detection Rate : 0.6810         \n",
       "   Detection Prevalence : 0.9310         \n",
       "      Balanced Accuracy : 0.5552         \n",
       "                                         \n",
       "       'Positive' Class : no             \n",
       "                                         "
      ]
     },
     "metadata": {},
     "output_type": "display_data"
    },
    {
     "data": {
      "image/png": "[encoded data removed]",
      "text/plain": [
       "plot without title"
      ]
     },
     "metadata": {},
     "output_type": "display_data"
    }
   ],
   "source": [
    "# Model Performance\n",
    "fit\n",
    "plot(fit)\n",
    "varImp(fit)\n",
    "pred <- predict(fit, newdata = test)\n",
    "confusionMatrix(pred, test$admit)"
   ]
  },
  {
   "cell_type": "code",
   "execution_count": null,
   "metadata": {},
   "outputs": [],
   "source": []
  }
 ],
 "metadata": {
  "kernelspec": {
   "display_name": "R",
   "language": "R",
   "name": "ir"
  },
  "language_info": {
   "codemirror_mode": "r",
   "file_extension": ".r",
   "mimetype": "text/x-r-source",
   "name": "R",
   "pygments_lexer": "r",
   "version": "3.6.1"
  }
 },
 "nbformat": 4,
 "nbformat_minor": 2
}
